{
 "cells": [
  {
   "cell_type": "markdown",
   "metadata": {},
   "source": [
    "# Unit 1 Assessment: Databases, Data Modeling, and SQL Analysis\n",
    "----\n",
    "\n",
    "### Overview\n",
    "\n",
    "The Unit 1 assessment covers databases, data modeling, and SQL analysis.  All of the questions for this assessment are contained in the `Unit_1_Assessment_unsolved.ipynb` Jupyter Notebook file. **The assessment is worth 50 points.**\n",
    "\n",
    "### Files\n",
    "\n",
    "Use the following link to download the assessment instructions, datasets, and Jupyter Notebook file.\n",
    "\n",
    "[Download the Unit 1 Assessment resources](https://2u-data-curriculum-team.s3.amazonaws.com/nflx-data-science-adv/week-2/Unit_1_Assessment.zip)\n",
    "\n",
    "### Instructions\n",
    "\n",
    "Keep the following mind while working on the assessment: \n",
    "\n",
    "* Remember that this is an individual assessment&mdash;you may not work with your classmates. However, you are free to consult your course notes and activities to help you answer the questions. \n",
    "\n",
    "* Although this assessment is delivered in a Jupyter Notebook, you will have to create databases and tables from the datasets in the Resources folder to solve the questions. You do NOT need to submit the datasets as part of the assessment; only submit the notebook containing your answers. \n",
    "\n",
    "    > **Note:** If your answers are not clearly identified, you may receive a score of “0” for that question. \n",
    "\n",
    "* We recommend you make a copy of the `Unit_1_Assessment_unsolved.ipynb` file to use as you work through each question. After you complete a question, transfer your answer to the `Unit_1_Assessment_unsolved.ipynb` file that you will submit. \n",
    "\n",
    "* When you are ready to submit your assessment, rename the `Unit_1_Assessment_unsolved.ipynb` file with your last name. For example, `Unit_1_Assessment_lastname.ipynb`.\n"
   ]
  },
  {
   "cell_type": "markdown",
   "metadata": {
    "id": "Dqr96HasFnC8"
   },
   "source": [
    "## Question 1\n",
    "\n",
    "- **4 points**\n",
    "\n",
    "In pgAdmin, create a database called \"tennis_db\" and make a new table called \"players.\" Create columns to match the headers in the `players.csv` CSV file or use the [QuickDBD](http://www.quickdatabasediagrams.com) to create the ERD from the  `players.csv` CSV file. Import the `players.csv` CSV file into the new table and answer the following question:\n",
    "\n",
    "What data type is most appropriate for the \"player_id\" column?\n",
    "\n",
    "a.  `VARCHAR`\n",
    "\n",
    "b. `STRING`\n",
    "\n",
    "c. `INT`\n",
    "\n",
    "d. `FLOAT`"
   ]
  },
  {
   "cell_type": "markdown",
   "metadata": {},
   "source": [
    "### Please provide your answer below.\n"
   ]
  },
  {
   "cell_type": "markdown",
   "metadata": {},
   "source": [
    "# C"
   ]
  },
  {
   "cell_type": "markdown",
   "metadata": {},
   "source": [
    "## Question 2\n",
    "\n",
    "- **5 points**\n",
    "\n",
    "Create a new table in \"tennis_db\" called \"matches.\"  Create columns to match the headers in the `matches.csv` CSV file, or use the [QuickDBD](http://www.quickdatabasediagrams.com) to create the ERD from the `matches.csv` CSV file. Import the `matches.csv` CSV file into the new table and answer the following question:\n",
    "\n",
    "How many matches in the dataset has Serena Williams won?\n",
    "\n",
    "a. 41\n",
    "\n",
    "b. 37\n",
    "\n",
    "c. 8\n",
    "\n",
    "d. 45"
   ]
  },
  {
   "cell_type": "markdown",
   "metadata": {},
   "source": [
    "### Please provide your answer below.\n"
   ]
  },
  {
   "cell_type": "markdown",
   "metadata": {},
   "source": [
    "# B"
   ]
  },
  {
   "cell_type": "markdown",
   "metadata": {
    "id": "yshvJVf5Fr2S"
   },
   "source": [
    "## Question 3\n",
    "\n",
    "- **6 points**\n",
    "\n",
    "Using the \"tennis_db\" from question 1, write a query that returns the count of players for each dominant hand group (i.e. right, left) and answer the following question:\n",
    "\n",
    "What is the distribution of the players’ dominant hands?\n",
    "\n",
    "a. 93 are left handed, 898 are right handed.\n",
    "\n",
    "b. 487 are left handed, 5023 are right handed\n",
    "\n",
    "c. 5023 are left handed, 487 are right handed.\n",
    "\n",
    "d. 898 are left handed, 1456 are right handed.\n"
   ]
  },
  {
   "cell_type": "markdown",
   "metadata": {},
   "source": [
    "### Please provide your answer below.\n"
   ]
  },
  {
   "cell_type": "markdown",
   "metadata": {},
   "source": [
    "# B"
   ]
  },
  {
   "cell_type": "markdown",
   "metadata": {
    "id": "Z55y12zwFsma"
   },
   "source": [
    "## Question 4\n",
    "\n",
    "- **6 points**\n",
    "\n",
    "Still using the \"tennis_db\", write a query that returns the number of \"wins\" for each dominant hand and answer the following question:\n",
    "\n",
    "What is the distribution of \"wins\" for each dominant hand? \n",
    "\n",
    " **Hint:** This will require you to join two tables together.\n",
    "\n",
    "a. 80 wins for left handed players, 2126 wins for right handed players.\n",
    "\n",
    "b. 487 wins for left handed players, 5023 wins for right handed players.\n",
    "\n",
    "c. 2126 wins for left handed players, 241 wins for right handed players.\n",
    "\n",
    "d. 241 wins for left handed players, 2126 wins for right handed players."
   ]
  },
  {
   "cell_type": "markdown",
   "metadata": {},
   "source": [
    "### Please provide your answer below.\n"
   ]
  },
  {
   "cell_type": "markdown",
   "metadata": {},
   "source": [
    "# D"
   ]
  },
  {
   "cell_type": "markdown",
   "metadata": {
    "id": "FKCmL7JmFvfd"
   },
   "source": [
    "## Question 5\n",
    "\n",
    "- **6 points**\n",
    "\n",
    "Using the \"tennis_db\", write a query that ranks the players by the number of wins, then answer the following question:\n",
    "\n",
    "Which player has the second most wins? \n",
    "\n",
    "a. Venus Williams\n",
    "\n",
    "b. Serena Williams\n",
    "\n",
    "c. Lindsay Davenport\n",
    "\n",
    "d. Martina Hingis"
   ]
  },
  {
   "cell_type": "markdown",
   "metadata": {
    "id": "G9sXU3XZeHhK"
   },
   "source": [
    "### Please provide your answer below.\n",
    "\n"
   ]
  },
  {
   "cell_type": "markdown",
   "metadata": {},
   "source": [
    "# C"
   ]
  },
  {
   "cell_type": "markdown",
   "metadata": {
    "id": "I5ajhWSaFxXL"
   },
   "source": [
    "## Question 6\n",
    "\n",
    "- **6 points**\n",
    "\n",
    "Using the \"tennis_db\", write a query that ranks the players by the number of losses, then answer the following question:\n",
    "\n",
    "Which two players are tied with most losses? \n",
    "\n",
    "a. Venus Williams and Serena Williams.\n",
    "\n",
    "b. Elena Likhovtseva and Anna Kournikova\n",
    "\n",
    "c. Martina Hingis and Lindsay Davenport.\n",
    "\n",
    "d.Monica Seles and Mary Pierce."
   ]
  },
  {
   "cell_type": "markdown",
   "metadata": {
    "id": "8xgbeDyygyOw"
   },
   "source": [
    "### Please provide your answer below.\n",
    "\n"
   ]
  },
  {
   "cell_type": "markdown",
   "metadata": {},
   "source": [
    "# B"
   ]
  },
  {
   "cell_type": "markdown",
   "metadata": {
    "id": "r3DHYAPgFzDc"
   },
   "source": [
    "## Question 7\n",
    "\n",
    "- **6 points**\n",
    "\n",
    "Using the \"tennis_db\", write a query that ranks the youngest players by the number of wins, then answer the following question:\n",
    "\n",
    "Which youngest player has the most wins? \n",
    "\n",
    "a. Lina Krasnoroutskaya\n",
    "\n",
    "b. Kim Clijsters.\n",
    "\n",
    "c. Jelena Dokic.\n",
    "\n",
    "d. Daniela Hantuchova.\n"
   ]
  },
  {
   "cell_type": "markdown",
   "metadata": {
    "id": "K8-Wek6bgy6Q"
   },
   "source": [
    "### Please provide your answer below.\n",
    "\n"
   ]
  },
  {
   "cell_type": "markdown",
   "metadata": {},
   "source": [
    "# B\n"
   ]
  },
  {
   "cell_type": "markdown",
   "metadata": {
    "id": "JFUKVXYzGOi5"
   },
   "source": [
    "## Question 8\n",
    "\n",
    "- **4 points**\n",
    "\n",
    "You’ve been hired to create a SQL database for a local gym owner, \"gym_db\". Based on your meetings with the owner, you’ve determined that the initial database design should follow the `schema.txt` in the Resources folder. \n",
    "\n",
    "The gym owner contacts you to let you know that the gym is going to start offering drop-in classes. The classes are paid for separately, and trainers are paid a percentage commission for the class and th ecommission is determined for each class.\n",
    "\n",
    "Create two new tables using to the [QuickDBD](https://app.quickdatabasediagrams.com/#/) and add them to the ERD from the `schema.txt` file, and add the appropriate data types and foreign key constraints to the logical schema, then answer the question below.\n",
    "\n",
    "```\n",
    "classes\n",
    "---\n",
    "class_id PK\n",
    "trainer_id\n",
    "gym_id\n",
    "class_name\n",
    "commission_percentage\n",
    "\n",
    "class_attendance\n",
    "---\n",
    "member_id\n",
    "class_id\n",
    "```\n",
    "\n",
    "\n",
    "How many foreign key relationships needed to be added?\n",
    "\n",
    "a. 3\n",
    "\n",
    "b. 2\n",
    "\n",
    "c. 4\n",
    "\n",
    "d. 6"
   ]
  },
  {
   "cell_type": "markdown",
   "metadata": {
    "id": "mn2DKHtPhUOm"
   },
   "source": [
    "### Please provide your answer below.\n",
    "\n"
   ]
  },
  {
   "cell_type": "markdown",
   "metadata": {},
   "source": [
    "# C"
   ]
  },
  {
   "cell_type": "markdown",
   "metadata": {
    "id": "7jeSAt7vGQ3s"
   },
   "source": [
    "## Question 9\n",
    "\n",
    "- **3 points**\n",
    "\n",
    "When you export the ERD from the \"gym_db\" as a PostgreSQL file, what is the keyword used when adding the foreign key constraints?\n",
    "\n",
    "a. `INSERT`\n",
    "\n",
    "b. `CREATE`\n",
    "\n",
    "c. `ALTER`\n",
    "\n",
    "d. `UPDATE`"
   ]
  },
  {
   "cell_type": "markdown",
   "metadata": {
    "id": "PnQNhVxFh6Tv"
   },
   "source": [
    "### Please provide your answer below\n",
    "\n"
   ]
  },
  {
   "cell_type": "markdown",
   "metadata": {},
   "source": [
    "\n",
    "# C"
   ]
  },
  {
   "cell_type": "markdown",
   "metadata": {
    "id": "qGO1gXrOGTAm"
   },
   "source": [
    "## Question 10\n",
    "\n",
    "- **4 points**\n",
    "\n",
    "Create the \"gym_db\" database in pgAdmin. Open the Query Tool, copy and paste the exported ERD PostgreSQL query into the Query Tool and run the query to create all six tables. Then, copy the following code and paste into the Query Tool in pgAdmin and run the query, and answer the question below.\n",
    "\n",
    "```\n",
    "INSERT INTO gym\n",
    "(gym_id, gym_name, address, city, zipcode)\n",
    "values (1, 'Average Joe''s Gymnasium', '123 Main St.', 'Springfield', '12345');\n",
    "\n",
    "INSERT INTO classes\n",
    "(class_id, trainer_id, gym_id, class_name, commission_percentage)\n",
    "values (1,1,1,'Wrench Dodging',0.1);\n",
    "\n",
    "INSERT INTO trainers\n",
    "(trainer_id, gym_id, first_name, last_name)\n",
    "values (1, 1, 'Patches', 'O''Houlihan');\n",
    "```\n",
    "\n",
    "The SQL code is attempting to insert a class into the database, but it returns an error. What needs to be changed for the code to run correctly?\n",
    "\n",
    "a. The IDs need to be changed to unique values.\n",
    "\n",
    "b. The ‘commission_percentage’ value should be a percent, not a decimal.\n",
    "\n",
    "c. Foreign key restraints need to be temporarily relaxed.\n",
    "\n",
    "d. The insert into “trainers” needs to happen before the insert into “classes”."
   ]
  },
  {
   "cell_type": "markdown",
   "metadata": {
    "id": "uH7g2Wk5isXz"
   },
   "source": [
    "### Please provide your answer below.\n",
    "\n"
   ]
  },
  {
   "cell_type": "markdown",
   "metadata": {},
   "source": [
    "# D"
   ]
  },
  {
   "cell_type": "code",
   "execution_count": null,
   "metadata": {},
   "outputs": [],
   "source": []
  }
 ],
 "metadata": {
  "colab": {
   "collapsed_sections": [],
   "name": "Unit_6_7_Assessment.ipynb",
   "provenance": []
  },
  "kernelspec": {
   "display_name": "Python 3 (ipykernel)",
   "language": "python",
   "name": "python3"
  },
  "language_info": {
   "codemirror_mode": {
    "name": "ipython",
    "version": 3
   },
   "file_extension": ".py",
   "mimetype": "text/x-python",
   "name": "python",
   "nbconvert_exporter": "python",
   "pygments_lexer": "ipython3",
   "version": "3.9.7"
  }
 },
 "nbformat": 4,
 "nbformat_minor": 1
}
